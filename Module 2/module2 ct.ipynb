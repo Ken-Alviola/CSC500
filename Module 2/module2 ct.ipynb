{
 "cells": [
  {
   "cell_type": "code",
   "execution_count": 27,
   "metadata": {
    "ExecuteTime": {
     "end_time": "2021-11-22T20:12:54.320031Z",
     "start_time": "2021-11-22T20:12:54.311647Z"
    }
   },
   "outputs": [],
   "source": [
    "def retail_total(num_items):\n",
    "    '''This function takes the integer argument num_items and asks the user to \n",
    "    input the price of each item and appends to a list. Then the function calculates\n",
    "    and outputs the subtotal, 7% tax, and grand total'''\n",
    "    \n",
    "    item_list = []\n",
    "    \n",
    "    while len(item_list) < num_items:\n",
    "        item_num = len(item_list)+1\n",
    "        print(f'Item {item_num}: ', end='')\n",
    "        item_list.append(float(input('Enter the item price: ')))\n",
    "    \n",
    "    subtotal = sum(item_list)\n",
    "    tax = subtotal * 0.07\n",
    "    total = subtotal + tax\n",
    "    \n",
    "    print()\n",
    "    print(f'Subtotal: ${round(subtotal,2)}')\n",
    "    print(f'Tax: ${round(tax,2)}')\n",
    "    print(f'Total: ${round(total,2)}')"
   ]
  },
  {
   "cell_type": "code",
   "execution_count": 28,
   "metadata": {
    "ExecuteTime": {
     "end_time": "2021-11-22T20:12:57.605392Z",
     "start_time": "2021-11-22T20:12:55.716923Z"
    }
   },
   "outputs": [
    {
     "name": "stdout",
     "output_type": "stream",
     "text": [
      "Enter the # of items: 5\n"
     ]
    }
   ],
   "source": [
    "num_items = int(input('Enter the # of items: '))"
   ]
  },
  {
   "cell_type": "code",
   "execution_count": 29,
   "metadata": {
    "ExecuteTime": {
     "end_time": "2021-11-22T20:13:20.388727Z",
     "start_time": "2021-11-22T20:12:58.914789Z"
    }
   },
   "outputs": [
    {
     "name": "stdout",
     "output_type": "stream",
     "text": [
      "Item 1: Enter the item price: 45.36\n",
      "Item 2: Enter the item price: 86.12\n",
      "Item 3: Enter the item price: 93.34\n",
      "Item 4: Enter the item price: 85.34\n",
      "Item 5: Enter the item price: 12.53\n",
      "\n",
      "Subtotal: $322.69\n",
      "Tax: $22.59\n",
      "Total: $345.28\n"
     ]
    }
   ],
   "source": [
    "retail_total(num_items)"
   ]
  },
  {
   "cell_type": "code",
   "execution_count": null,
   "metadata": {},
   "outputs": [],
   "source": []
  }
 ],
 "metadata": {
  "kernelspec": {
   "display_name": "Python 3",
   "language": "python",
   "name": "python3"
  },
  "language_info": {
   "codemirror_mode": {
    "name": "ipython",
    "version": 3
   },
   "file_extension": ".py",
   "mimetype": "text/x-python",
   "name": "python",
   "nbconvert_exporter": "python",
   "pygments_lexer": "ipython3",
   "version": "3.8.5"
  }
 },
 "nbformat": 4,
 "nbformat_minor": 4
}
