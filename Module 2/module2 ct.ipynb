{
 "cells": [
  {
   "cell_type": "code",
   "execution_count": 24,
   "metadata": {
    "ExecuteTime": {
     "end_time": "2021-11-22T20:05:24.189236Z",
     "start_time": "2021-11-22T20:05:24.182333Z"
    }
   },
   "outputs": [],
   "source": [
    "def retail_total(num_items):\n",
    "    '''This function takes the integer argument num_items and asks the user to input the price of each item and appends to a list. \n",
    "    Then the function calculates and outputs the subtotal, 7% tax, and grand total'''\n",
    "    \n",
    "    item_list = []\n",
    "    \n",
    "    while len(item_list) < num_items:\n",
    "        item_num = len(item_list)+1\n",
    "        print(f'Item {item_num}: ', end='')\n",
    "        item_list.append(float(input('Enter the item price: ')))\n",
    "    \n",
    "    subtotal = sum(item_list)\n",
    "    tax = subtotal * 0.07\n",
    "    total = subtotal + tax\n",
    "    \n",
    "    print()\n",
    "    print(f'Subtotal: ${round(subtotal,2)}')\n",
    "    print(f'Tax: ${round(tax,2)}')\n",
    "    print(f'Total: ${round(total,2)}')"
   ]
  },
  {
   "cell_type": "code",
   "execution_count": 25,
   "metadata": {
    "ExecuteTime": {
     "end_time": "2021-11-22T20:05:27.862653Z",
     "start_time": "2021-11-22T20:05:25.913233Z"
    }
   },
   "outputs": [
    {
     "name": "stdout",
     "output_type": "stream",
     "text": [
      "Enter the # of items: 5\n"
     ]
    }
   ],
   "source": [
    "num_items = int(input('Enter the # of items: '))"
   ]
  },
  {
   "cell_type": "code",
   "execution_count": 26,
   "metadata": {
    "ExecuteTime": {
     "end_time": "2021-11-22T20:05:48.687794Z",
     "start_time": "2021-11-22T20:05:29.276316Z"
    }
   },
   "outputs": [
    {
     "name": "stdout",
     "output_type": "stream",
     "text": [
      "Item 1: Enter the item price: 65.3\n",
      "Item 2: Enter the item price: 64.25\n",
      "Item 3: Enter the item price: 86.23\n",
      "Item 4: Enter the item price: 86.36\n",
      "Item 5: Enter the item price: 16.12\n",
      "\n",
      "Subtotal: $318.26\n",
      "Tax: $22.28\n",
      "Total: $340.54\n"
     ]
    }
   ],
   "source": [
    "retail_total(num_items)"
   ]
  },
  {
   "cell_type": "code",
   "execution_count": null,
   "metadata": {},
   "outputs": [],
   "source": []
  }
 ],
 "metadata": {
  "kernelspec": {
   "display_name": "Python 3",
   "language": "python",
   "name": "python3"
  },
  "language_info": {
   "codemirror_mode": {
    "name": "ipython",
    "version": 3
   },
   "file_extension": ".py",
   "mimetype": "text/x-python",
   "name": "python",
   "nbconvert_exporter": "python",
   "pygments_lexer": "ipython3",
   "version": "3.8.5"
  }
 },
 "nbformat": 4,
 "nbformat_minor": 4
}
