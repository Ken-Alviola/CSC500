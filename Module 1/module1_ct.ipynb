{
 "cells": [
  {
   "cell_type": "code",
   "execution_count": 23,
   "metadata": {
    "ExecuteTime": {
     "end_time": "2021-11-17T20:30:15.835923Z",
     "start_time": "2021-11-17T20:30:15.830545Z"
    }
   },
   "outputs": [],
   "source": [
    "def add_subtract():\n",
    "    '''This function asks the user to input two integers and prints\n",
    "    the addition and subtraction of those two numbers'''\n",
    "    \n",
    "    num1 = int(input('Enter the 1st integer: '))\n",
    "    num2 = int(input('Enter the 2nd Integer: '))\n",
    "    print()\n",
    "    print(f'{num1} + {num2} = {num1 + num2}')\n",
    "    print(f'{num1} - {num2} = {num1 - num2}')"
   ]
  },
  {
   "cell_type": "code",
   "execution_count": 24,
   "metadata": {
    "ExecuteTime": {
     "end_time": "2021-11-17T20:30:20.094982Z",
     "start_time": "2021-11-17T20:30:16.691162Z"
    }
   },
   "outputs": [
    {
     "name": "stdout",
     "output_type": "stream",
     "text": [
      "Enter the 1st integer: 6\n",
      "Enter the 2nd Integer: 3\n",
      "\n",
      "6 + 3 = 9\n",
      "6 - 3 = 3\n"
     ]
    }
   ],
   "source": [
    "add_subtract()"
   ]
  },
  {
   "cell_type": "code",
   "execution_count": 25,
   "metadata": {
    "ExecuteTime": {
     "end_time": "2021-11-17T20:30:37.430896Z",
     "start_time": "2021-11-17T20:30:23.333024Z"
    }
   },
   "outputs": [
    {
     "name": "stdout",
     "output_type": "stream",
     "text": [
      "Enter the 1st integer: 45\n",
      "Enter the 2nd Integer: 27\n",
      "\n",
      "45 + 27 = 72\n",
      "45 - 27 = 18\n"
     ]
    }
   ],
   "source": [
    "add_subtract()"
   ]
  },
  {
   "cell_type": "code",
   "execution_count": null,
   "metadata": {},
   "outputs": [],
   "source": []
  }
 ],
 "metadata": {
  "kernelspec": {
   "display_name": "Python 3",
   "language": "python",
   "name": "python3"
  },
  "language_info": {
   "codemirror_mode": {
    "name": "ipython",
    "version": 3
   },
   "file_extension": ".py",
   "mimetype": "text/x-python",
   "name": "python",
   "nbconvert_exporter": "python",
   "pygments_lexer": "ipython3",
   "version": "3.8.5"
  }
 },
 "nbformat": 4,
 "nbformat_minor": 4
}
