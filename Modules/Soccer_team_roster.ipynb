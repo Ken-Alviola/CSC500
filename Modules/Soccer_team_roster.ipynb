{
 "cells": [
  {
   "cell_type": "code",
   "execution_count": 17,
   "metadata": {
    "ExecuteTime": {
     "end_time": "2021-11-27T19:58:31.637929Z",
     "start_time": "2021-11-27T19:58:31.631597Z"
    }
   },
   "outputs": [],
   "source": [
    "def team_roster():\n",
    "    weight_list = []\n",
    "    \n",
    "    while len(weight_list) < 4:\n",
    "        weight_list.append(float(input('Enter weight in pounds to the nearest tenth: ')))\n",
    "    print()\n",
    "    \n",
    "    average_weight = sum(weight_list) / len(weight_list)\n",
    "    \n",
    "    print(f'Weights: {weight_list}')\n",
    "    print('Average weight: {:.2f}'.format(average_weight))\n",
    "    print('Max weight: {:.2f}'.format(max(weight_list)))"
   ]
  },
  {
   "cell_type": "code",
   "execution_count": 19,
   "metadata": {
    "ExecuteTime": {
     "end_time": "2021-11-27T19:59:07.311966Z",
     "start_time": "2021-11-27T19:58:52.197940Z"
    }
   },
   "outputs": [
    {
     "name": "stdout",
     "output_type": "stream",
     "text": [
      "Enter weight in pounds to the nearest tenth: 236.0\n",
      "Enter weight in pounds to the nearest tenth: 89.5\n",
      "Enter weight in pounds to the nearest tenth: 176.0\n",
      "Enter weight in pounds to the nearest tenth: 166.3\n",
      "\n",
      "Weights: [236.0, 89.5, 176.0, 166.3]\n",
      "Average weight: 166.95\n",
      "Max weight: 236.00\n"
     ]
    }
   ],
   "source": [
    "team_roster()"
   ]
  },
  {
   "cell_type": "code",
   "execution_count": 44,
   "metadata": {
    "ExecuteTime": {
     "end_time": "2021-12-21T21:24:10.815832Z",
     "start_time": "2021-12-21T21:24:10.809324Z"
    }
   },
   "outputs": [],
   "source": [
    "def player_input():\n",
    "    player_dict = {}\n",
    "    count = 1\n",
    "\n",
    "    while len(player_dict) < 5:\n",
    "        jersey = int(input(f'Enter player {count}\\'s jersey number: '))\n",
    "        rating = int(input(f'Enter player {count}\\'s rating: '))\n",
    "        print()\n",
    "        count += 1\n",
    "        player_dict.update({jersey: rating})\n",
    "\n",
    "    return player_dict"
   ]
  },
  {
   "cell_type": "code",
   "execution_count": 45,
   "metadata": {
    "ExecuteTime": {
     "end_time": "2021-12-21T21:24:31.601853Z",
     "start_time": "2021-12-21T21:24:12.491259Z"
    }
   },
   "outputs": [
    {
     "name": "stdout",
     "output_type": "stream",
     "text": [
      "Enter player 1's jersey number: 84\n",
      "Enter player 1's rating: 7\n",
      "\n",
      "Enter player 2's jersey number: 23\n",
      "Enter player 2's rating: 4\n",
      "\n",
      "Enter player 3's jersey number: 4\n",
      "Enter player 3's rating: 5\n",
      "\n",
      "Enter player 4's jersey number: 30\n",
      "Enter player 4's rating: 2\n",
      "\n",
      "Enter player 5's jersey number: 66\n",
      "Enter player 5's rating: 9\n",
      "\n"
     ]
    }
   ],
   "source": [
    "player_dict = player_input()"
   ]
  },
  {
   "cell_type": "code",
   "execution_count": 55,
   "metadata": {
    "ExecuteTime": {
     "end_time": "2021-12-21T21:26:50.202794Z",
     "start_time": "2021-12-21T21:26:50.197716Z"
    }
   },
   "outputs": [],
   "source": [
    "#sort the keys\n",
    "sorted_list = list(player_dict.keys())\n",
    "sorted_list.sort()"
   ]
  },
  {
   "cell_type": "code",
   "execution_count": 56,
   "metadata": {
    "ExecuteTime": {
     "end_time": "2021-12-21T21:26:51.444071Z",
     "start_time": "2021-12-21T21:26:51.437266Z"
    }
   },
   "outputs": [
    {
     "data": {
      "text/plain": [
       "[4, 23, 30, 66, 84]"
      ]
     },
     "execution_count": 56,
     "metadata": {},
     "output_type": "execute_result"
    }
   ],
   "source": [
    "sorted_list"
   ]
  },
  {
   "cell_type": "code",
   "execution_count": 59,
   "metadata": {
    "ExecuteTime": {
     "end_time": "2021-12-21T21:31:45.290201Z",
     "start_time": "2021-12-21T21:31:45.280987Z"
    }
   },
   "outputs": [
    {
     "data": {
      "text/plain": [
       "[[4, 5], [23, 4], [30, 2], [66, 9], [84, 7]]"
      ]
     },
     "execution_count": 59,
     "metadata": {},
     "output_type": "execute_result"
    }
   ],
   "source": [
    "[[i,player_dict[i]] for i in sorted_list]"
   ]
  },
  {
   "cell_type": "code",
   "execution_count": 64,
   "metadata": {
    "ExecuteTime": {
     "end_time": "2021-12-21T21:36:20.665679Z",
     "start_time": "2021-12-21T21:36:20.659924Z"
    }
   },
   "outputs": [
    {
     "name": "stdout",
     "output_type": "stream",
     "text": [
      "ROSTER\n",
      "--------------------------\n",
      "Jersey number: 4, Rating: 5\n",
      "Jersey number: 23, Rating: 4\n",
      "Jersey number: 30, Rating: 2\n",
      "Jersey number: 66, Rating: 9\n",
      "Jersey number: 84, Rating: 7\n"
     ]
    }
   ],
   "source": [
    "print('ROSTER')\n",
    "print('--------------------------')\n",
    "for jersey_num in sorted_list:\n",
    "    print(f'Jersey number: {jersey_num}, Rating: {player_dict[jersey_num]}')"
   ]
  },
  {
   "cell_type": "code",
   "execution_count": 72,
   "metadata": {
    "ExecuteTime": {
     "end_time": "2021-12-21T21:58:06.897923Z",
     "start_time": "2021-12-21T21:58:06.872358Z"
    }
   },
   "outputs": [
    {
     "name": "stdout",
     "output_type": "stream",
     "text": [
      "Jersey number: 4, Rating: 5\n",
      "Jersey number: 23, Rating: 4\n",
      "Jersey number: 30, Rating: 2\n",
      "Jersey number: 66, Rating: 9\n",
      "Jersey number: 84, Rating: 7\n"
     ]
    }
   ],
   "source": [
    "for key in sorted(player_dict.keys()):\n",
    "    print(f'Jersey number: {key}, Rating: {player_dict[key]}')"
   ]
  },
  {
   "cell_type": "code",
   "execution_count": 74,
   "metadata": {
    "ExecuteTime": {
     "end_time": "2021-12-23T20:57:30.506038Z",
     "start_time": "2021-12-23T20:57:30.498242Z"
    }
   },
   "outputs": [],
   "source": [
    "def roster(player_dict):\n",
    "    \n",
    "    print('ROSTER')\n",
    "    print('--------------------------')\n",
    "    for key in sorted(player_dict.keys()):\n",
    "        print(f'Jersey number: {key}, Rating: {player_dict[key]}')"
   ]
  },
  {
   "cell_type": "code",
   "execution_count": 75,
   "metadata": {
    "ExecuteTime": {
     "end_time": "2021-12-23T20:57:40.168174Z",
     "start_time": "2021-12-23T20:57:40.158826Z"
    }
   },
   "outputs": [
    {
     "name": "stdout",
     "output_type": "stream",
     "text": [
      "ROSTER\n",
      "--------------------------\n",
      "Jersey number: 4, Rating: 5\n",
      "Jersey number: 23, Rating: 4\n",
      "Jersey number: 30, Rating: 2\n",
      "Jersey number: 66, Rating: 9\n",
      "Jersey number: 84, Rating: 7\n"
     ]
    }
   ],
   "source": [
    "roster(player_dict)"
   ]
  },
  {
   "cell_type": "code",
   "execution_count": 82,
   "metadata": {
    "ExecuteTime": {
     "end_time": "2021-12-23T21:05:39.569170Z",
     "start_time": "2021-12-23T21:05:39.562419Z"
    }
   },
   "outputs": [],
   "source": [
    "def modify_roster(player_dict):\n",
    "    user_input = ''\n",
    "    \n",
    "    while user_input != 'q':\n",
    "        print('MENU')\n",
    "        print('-----------------')\n",
    "        print('a - Add player')\n",
    "        print('d - Remove player')\n",
    "        print('u - Update player rating')\n",
    "        print('r - Output players above a rating')\n",
    "        print('o - Output roster')\n",
    "        print('q - Quit')\n",
    "        user_input = input('Choose an option: ').lower()\n",
    "        print()"
   ]
  },
  {
   "cell_type": "code",
   "execution_count": 84,
   "metadata": {
    "ExecuteTime": {
     "end_time": "2021-12-23T21:08:06.489077Z",
     "start_time": "2021-12-23T21:08:00.486068Z"
    }
   },
   "outputs": [
    {
     "name": "stdout",
     "output_type": "stream",
     "text": [
      "MENU\n",
      "-----------------\n",
      "a - Add player\n",
      "d - Remove player\n",
      "u - Update player rating\n",
      "r - Output players above a rating\n",
      "o - Output roster\n",
      "q - Quit\n",
      "Choose an option: a\n",
      "\n",
      "MENU\n",
      "-----------------\n",
      "a - Add player\n",
      "d - Remove player\n",
      "u - Update player rating\n",
      "r - Output players above a rating\n",
      "o - Output roster\n",
      "q - Quit\n",
      "Choose an option: d\n",
      "\n",
      "MENU\n",
      "-----------------\n",
      "a - Add player\n",
      "d - Remove player\n",
      "u - Update player rating\n",
      "r - Output players above a rating\n",
      "o - Output roster\n",
      "q - Quit\n",
      "Choose an option: r\n",
      "\n",
      "MENU\n",
      "-----------------\n",
      "a - Add player\n",
      "d - Remove player\n",
      "u - Update player rating\n",
      "r - Output players above a rating\n",
      "o - Output roster\n",
      "q - Quit\n",
      "Choose an option: Q\n",
      "\n"
     ]
    }
   ],
   "source": [
    "modify_roster(player_dict)"
   ]
  },
  {
   "cell_type": "code",
   "execution_count": null,
   "metadata": {},
   "outputs": [],
   "source": []
  }
 ],
 "metadata": {
  "kernelspec": {
   "display_name": "Python 3",
   "language": "python",
   "name": "python3"
  },
  "language_info": {
   "codemirror_mode": {
    "name": "ipython",
    "version": 3
   },
   "file_extension": ".py",
   "mimetype": "text/x-python",
   "name": "python",
   "nbconvert_exporter": "python",
   "pygments_lexer": "ipython3",
   "version": "3.8.5"
  }
 },
 "nbformat": 4,
 "nbformat_minor": 4
}
