{
 "cells": [
  {
   "cell_type": "code",
   "execution_count": 11,
   "metadata": {
    "ExecuteTime": {
     "end_time": "2021-11-27T19:09:23.269429Z",
     "start_time": "2021-11-27T19:09:23.257629Z"
    }
   },
   "outputs": [],
   "source": [
    "def team_roster():\n",
    "    weight_list = []\n",
    "    while len(weight_list) < 4:\n",
    "        weight_list.append(float(input('Enter weight in pounds to the nearest 10th: ')))\n",
    "    print()\n",
    "    print(f'Weights: {weight_list}')\n",
    "    average_weight = sum(weight_list) / 4.00\n",
    "    print('Average weight: {:.2f}'.format(average_weight))\n",
    "    print('Max weight: {:.2f}'.format(max(weight_list)))\n"
   ]
  },
  {
   "cell_type": "code",
   "execution_count": 12,
   "metadata": {
    "ExecuteTime": {
     "end_time": "2021-11-27T19:09:36.201896Z",
     "start_time": "2021-11-27T19:09:24.972940Z"
    }
   },
   "outputs": [
    {
     "name": "stdout",
     "output_type": "stream",
     "text": [
      "Enter weight in pounds to the nearest 10th: 236.0\n",
      "Enter weight in pounds to the nearest 10th: 89.5\n",
      "Enter weight in pounds to the nearest 10th: 176.0\n",
      "Enter weight in pounds to the nearest 10th: 166.3\n",
      "Weights: [236.0, 89.5, 176.0, 166.3]\n",
      "Average weight: 166.95\n",
      "Max weight: 236.00\n"
     ]
    }
   ],
   "source": [
    "team_roster()"
   ]
  },
  {
   "cell_type": "code",
   "execution_count": null,
   "metadata": {},
   "outputs": [],
   "source": []
  }
 ],
 "metadata": {
  "kernelspec": {
   "display_name": "Python 3",
   "language": "python",
   "name": "python3"
  },
  "language_info": {
   "codemirror_mode": {
    "name": "ipython",
    "version": 3
   },
   "file_extension": ".py",
   "mimetype": "text/x-python",
   "name": "python",
   "nbconvert_exporter": "python",
   "pygments_lexer": "ipython3",
   "version": "3.8.5"
  }
 },
 "nbformat": 4,
 "nbformat_minor": 4
}
