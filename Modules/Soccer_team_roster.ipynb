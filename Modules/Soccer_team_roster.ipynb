{
 "cells": [
  {
   "cell_type": "code",
   "execution_count": 3,
   "metadata": {
    "ExecuteTime": {
     "end_time": "2022-01-04T20:38:28.445719Z",
     "start_time": "2022-01-04T20:38:28.440458Z"
    }
   },
   "outputs": [],
   "source": [
    "def team_roster():\n",
    "    weight_list = []\n",
    "    \n",
    "    while len(weight_list) < 4:\n",
    "        weight_list.append(float(input('Enter weight in pounds to the nearest tenth: ')))\n",
    "    print()\n",
    "    \n",
    "    average_weight = sum(weight_list) / len(weight_list)\n",
    "    \n",
    "    print(f'Weights: {weight_list}')\n",
    "    print('Average weight: {:.2f}'.format(average_weight))\n",
    "    print('Max weight: {:.2f}'.format(max(weight_list)))"
   ]
  },
  {
   "cell_type": "code",
   "execution_count": 4,
   "metadata": {
    "ExecuteTime": {
     "end_time": "2022-01-04T20:39:23.477305Z",
     "start_time": "2022-01-04T20:38:33.382498Z"
    }
   },
   "outputs": [
    {
     "name": "stdout",
     "output_type": "stream",
     "text": [
      "Enter weight in pounds to the nearest tenth: 236.0\n",
      "Enter weight in pounds to the nearest tenth: 89.5\n",
      "Enter weight in pounds to the nearest tenth: 176.0\n",
      "Enter weight in pounds to the nearest tenth: 166.3\n",
      "\n",
      "Weights: [236.0, 89.5, 176.0, 166.3]\n",
      "Average weight: 166.95\n",
      "Max weight: 236.00\n"
     ]
    }
   ],
   "source": [
    "team_roster()"
   ]
  },
  {
   "cell_type": "code",
   "execution_count": 5,
   "metadata": {
    "ExecuteTime": {
     "end_time": "2022-01-04T20:39:29.132964Z",
     "start_time": "2022-01-04T20:39:29.126331Z"
    }
   },
   "outputs": [],
   "source": [
    "def player_input():\n",
    "    player_dict = {}\n",
    "    count = 1\n",
    "\n",
    "    while len(player_dict) < 5:\n",
    "        jersey = int(input(f'Enter player {count}\\'s jersey number: '))\n",
    "        rating = int(input(f'Enter player {count}\\'s rating: '))\n",
    "        print()\n",
    "        count += 1\n",
    "        player_dict.update({jersey: rating})\n",
    "\n",
    "    return player_dict"
   ]
  },
  {
   "cell_type": "code",
   "execution_count": 6,
   "metadata": {
    "ExecuteTime": {
     "end_time": "2022-01-04T20:39:59.955750Z",
     "start_time": "2022-01-04T20:39:41.252566Z"
    }
   },
   "outputs": [
    {
     "name": "stdout",
     "output_type": "stream",
     "text": [
      "Enter player 1's jersey number: 84\n",
      "Enter player 1's rating: 7\n",
      "\n",
      "Enter player 2's jersey number: 23\n",
      "Enter player 2's rating: 4\n",
      "\n",
      "Enter player 3's jersey number: 4\n",
      "Enter player 3's rating: 5\n",
      "\n",
      "Enter player 4's jersey number: 30\n",
      "Enter player 4's rating: 2\n",
      "\n",
      "Enter player 5's jersey number: 66\n",
      "Enter player 5's rating: 9\n",
      "\n"
     ]
    }
   ],
   "source": [
    "player_dict = player_input()"
   ]
  },
  {
   "cell_type": "code",
   "execution_count": 7,
   "metadata": {
    "ExecuteTime": {
     "end_time": "2022-01-04T20:40:05.840750Z",
     "start_time": "2022-01-04T20:40:05.836452Z"
    }
   },
   "outputs": [],
   "source": [
    "#sort the keys\n",
    "sorted_list = list(player_dict.keys())\n",
    "sorted_list.sort()"
   ]
  },
  {
   "cell_type": "code",
   "execution_count": 8,
   "metadata": {
    "ExecuteTime": {
     "end_time": "2022-01-04T20:40:06.414885Z",
     "start_time": "2022-01-04T20:40:06.405253Z"
    }
   },
   "outputs": [
    {
     "data": {
      "text/plain": [
       "[4, 23, 30, 66, 84]"
      ]
     },
     "execution_count": 8,
     "metadata": {},
     "output_type": "execute_result"
    }
   ],
   "source": [
    "sorted_list"
   ]
  },
  {
   "cell_type": "code",
   "execution_count": 9,
   "metadata": {
    "ExecuteTime": {
     "end_time": "2022-01-04T20:40:07.269269Z",
     "start_time": "2022-01-04T20:40:07.259572Z"
    }
   },
   "outputs": [
    {
     "data": {
      "text/plain": [
       "[[4, 5], [23, 4], [30, 2], [66, 9], [84, 7]]"
      ]
     },
     "execution_count": 9,
     "metadata": {},
     "output_type": "execute_result"
    }
   ],
   "source": [
    "[[i,player_dict[i]] for i in sorted_list]"
   ]
  },
  {
   "cell_type": "code",
   "execution_count": 10,
   "metadata": {
    "ExecuteTime": {
     "end_time": "2022-01-04T20:40:09.746547Z",
     "start_time": "2022-01-04T20:40:09.740740Z"
    }
   },
   "outputs": [
    {
     "name": "stdout",
     "output_type": "stream",
     "text": [
      "ROSTER\n",
      "--------------------------\n",
      "Jersey number: 4, Rating: 5\n",
      "Jersey number: 23, Rating: 4\n",
      "Jersey number: 30, Rating: 2\n",
      "Jersey number: 66, Rating: 9\n",
      "Jersey number: 84, Rating: 7\n"
     ]
    }
   ],
   "source": [
    "print('ROSTER')\n",
    "print('--------------------------')\n",
    "for jersey_num in sorted_list:\n",
    "    print(f'Jersey number: {jersey_num}, Rating: {player_dict[jersey_num]}')"
   ]
  },
  {
   "cell_type": "code",
   "execution_count": 11,
   "metadata": {
    "ExecuteTime": {
     "end_time": "2022-01-04T20:40:12.708951Z",
     "start_time": "2022-01-04T20:40:12.703173Z"
    }
   },
   "outputs": [
    {
     "name": "stdout",
     "output_type": "stream",
     "text": [
      "Jersey number: 4, Rating: 5\n",
      "Jersey number: 23, Rating: 4\n",
      "Jersey number: 30, Rating: 2\n",
      "Jersey number: 66, Rating: 9\n",
      "Jersey number: 84, Rating: 7\n"
     ]
    }
   ],
   "source": [
    "for key in sorted(player_dict.keys()):\n",
    "    print(f'Jersey number: {key}, Rating: {player_dict[key]}')"
   ]
  },
  {
   "cell_type": "code",
   "execution_count": 12,
   "metadata": {
    "ExecuteTime": {
     "end_time": "2022-01-04T20:40:15.234105Z",
     "start_time": "2022-01-04T20:40:15.227999Z"
    }
   },
   "outputs": [],
   "source": [
    "def roster(player_dict):\n",
    "    \n",
    "    print('ROSTER')\n",
    "    print('--------------------------')\n",
    "    for key in sorted(player_dict.keys()):\n",
    "        print(f'Jersey number: {key}, Rating: {player_dict[key]}')"
   ]
  },
  {
   "cell_type": "code",
   "execution_count": 13,
   "metadata": {
    "ExecuteTime": {
     "end_time": "2022-01-04T20:40:16.168781Z",
     "start_time": "2022-01-04T20:40:16.163191Z"
    }
   },
   "outputs": [
    {
     "name": "stdout",
     "output_type": "stream",
     "text": [
      "ROSTER\n",
      "--------------------------\n",
      "Jersey number: 4, Rating: 5\n",
      "Jersey number: 23, Rating: 4\n",
      "Jersey number: 30, Rating: 2\n",
      "Jersey number: 66, Rating: 9\n",
      "Jersey number: 84, Rating: 7\n"
     ]
    }
   ],
   "source": [
    "roster(player_dict)"
   ]
  },
  {
   "cell_type": "code",
   "execution_count": 73,
   "metadata": {
    "ExecuteTime": {
     "end_time": "2022-01-04T21:51:37.105304Z",
     "start_time": "2022-01-04T21:51:37.090784Z"
    }
   },
   "outputs": [],
   "source": [
    "def modify_roster(player_dict):\n",
    "    user_input = ''\n",
    "    \n",
    "    while user_input != 'q':\n",
    "        print('MENU')\n",
    "        print('-----------------')\n",
    "        print('a - Add player')\n",
    "        print('d - Remove player')\n",
    "        print('u - Update player rating')\n",
    "        print('r - Output players above a rating')\n",
    "        print('o - Output roster')\n",
    "        print('q - Quit')\n",
    "        \n",
    "        if user_input == 'a':\n",
    "            print()\n",
    "            print('ADD PLAYER: ')\n",
    "            print('--------------------------')\n",
    "            jersey = int(input(f'Enter player\\'s jersey number: '))\n",
    "            rating = int(input(f'Enter player\\'s rating: '))\n",
    "            player_dict.update({jersey: rating})\n",
    "            \n",
    "        elif user_input == 'd':\n",
    "            print()\n",
    "            print('DELETE PLAYER')\n",
    "            print('--------------------------')\n",
    "            jersey = int(input(f'Enter player\\'s jersey number: '))\n",
    "            del player_dict[jersey]\n",
    "        \n",
    "        elif user_input == 'r':\n",
    "            print()\n",
    "            print('OUTPUT PLAYERS ABOVE RATING')\n",
    "            print('--------------------------')            \n",
    "            rating_above = int(input(f'Enter a rating: '))\n",
    "            print()\n",
    "            print(f'ABOVE {rating_above}')\n",
    "            print('--------------------------') \n",
    "            \n",
    "            sorted_player_dict = dict(sorted(player_dict.items(),key=lambda x:x[1],reverse=True))\n",
    "            filter_player_dict = {k:v for k,v in sorted_player_dict.items() if v > rating_above}\n",
    "            for key in filter_player_dict.keys():\n",
    "                print(f'Jersey number: {key}, Rating: {player_dict[key]}')\n",
    "            \n",
    "            \n",
    "        print()\n",
    "        user_input = input('Choose an option: ').lower()\n",
    "        print()\n",
    "        \n",
    "    return player_dict"
   ]
  },
  {
   "cell_type": "code",
   "execution_count": null,
   "metadata": {
    "ExecuteTime": {
     "start_time": "2022-01-04T21:51:40.685Z"
    }
   },
   "outputs": [
    {
     "name": "stdout",
     "output_type": "stream",
     "text": [
      "MENU\n",
      "-----------------\n",
      "a - Add player\n",
      "d - Remove player\n",
      "u - Update player rating\n",
      "r - Output players above a rating\n",
      "o - Output roster\n",
      "q - Quit\n",
      "\n",
      "Choose an option: r\n",
      "\n",
      "MENU\n",
      "-----------------\n",
      "a - Add player\n",
      "d - Remove player\n",
      "u - Update player rating\n",
      "r - Output players above a rating\n",
      "o - Output roster\n",
      "q - Quit\n",
      "\n",
      "OUTPUT PLAYERS ABOVE RATING\n",
      "--------------------------\n",
      "Enter a rating: 2\n",
      "\n",
      "ABOVE 2\n",
      "--------------------------\n",
      "Jersey number: 54, Rating: 67\n",
      "Jersey number: 89, Rating: 54\n",
      "Jersey number: 66, Rating: 9\n",
      "Jersey number: 84, Rating: 7\n",
      "Jersey number: 4, Rating: 5\n",
      "Jersey number: 23, Rating: 4\n",
      "\n",
      "Choose an option: r\n",
      "\n",
      "MENU\n",
      "-----------------\n",
      "a - Add player\n",
      "d - Remove player\n",
      "u - Update player rating\n",
      "r - Output players above a rating\n",
      "o - Output roster\n",
      "q - Quit\n",
      "\n",
      "OUTPUT PLAYERS ABOVE RATING\n",
      "--------------------------\n",
      "Enter a rating: 10\n",
      "\n",
      "ABOVE 10\n",
      "--------------------------\n",
      "Jersey number: 54, Rating: 67\n",
      "Jersey number: 89, Rating: 54\n",
      "\n"
     ]
    }
   ],
   "source": [
    "modify_roster(player_dict)"
   ]
  },
  {
   "cell_type": "code",
   "execution_count": 62,
   "metadata": {
    "ExecuteTime": {
     "end_time": "2022-01-04T21:32:08.975065Z",
     "start_time": "2022-01-04T21:32:08.966175Z"
    }
   },
   "outputs": [
    {
     "data": {
      "text/plain": [
       "[(54, 67), (89, 54), (66, 9), (84, 7), (4, 5), (23, 4), (30, 2)]"
      ]
     },
     "execution_count": 62,
     "metadata": {},
     "output_type": "execute_result"
    }
   ],
   "source": [
    "sorted(player_dict.items(),key=lambda x:x[1],reverse=True)"
   ]
  },
  {
   "cell_type": "code",
   "execution_count": 65,
   "metadata": {
    "ExecuteTime": {
     "end_time": "2022-01-04T21:34:19.995380Z",
     "start_time": "2022-01-04T21:34:19.984774Z"
    }
   },
   "outputs": [
    {
     "data": {
      "text/plain": [
       "(dict, {54: 67, 89: 54, 66: 9, 84: 7, 4: 5, 23: 4, 30: 2})"
      ]
     },
     "execution_count": 65,
     "metadata": {},
     "output_type": "execute_result"
    }
   ],
   "source": [
    "filter_player_dict = dict(sorted(player_dict.items(),key=lambda x:x[1],reverse=True))\n",
    "type(filter_player_dict), filter_player_dict"
   ]
  },
  {
   "cell_type": "code",
   "execution_count": 68,
   "metadata": {
    "ExecuteTime": {
     "end_time": "2022-01-04T21:44:18.018854Z",
     "start_time": "2022-01-04T21:44:18.010910Z"
    }
   },
   "outputs": [
    {
     "data": {
      "text/plain": [
       "{54: 67, 89: 54, 66: 9, 84: 7}"
      ]
     },
     "execution_count": 68,
     "metadata": {},
     "output_type": "execute_result"
    }
   ],
   "source": [
    "{k:v for k,v in filter_player_dict.items() if v > 5}"
   ]
  },
  {
   "cell_type": "code",
   "execution_count": null,
   "metadata": {},
   "outputs": [],
   "source": []
  },
  {
   "cell_type": "code",
   "execution_count": null,
   "metadata": {},
   "outputs": [],
   "source": []
  },
  {
   "cell_type": "code",
   "execution_count": 18,
   "metadata": {
    "ExecuteTime": {
     "end_time": "2022-01-03T22:47:08.444902Z",
     "start_time": "2022-01-03T22:47:08.437197Z"
    }
   },
   "outputs": [
    {
     "data": {
      "text/plain": [
       "'Example:\\n\\nEnter a rating:\\n\\n5\\n\\nABOVE 5\\n\\nJersey number: 66, Rating: 9\\n\\nJersey number: 84, Rating: 7\\n\\n'"
      ]
     },
     "execution_count": 18,
     "metadata": {},
     "output_type": "execute_result"
    }
   ],
   "source": [
    "#Step 5: Implement the \"Add player\" menu option. Prompt the user for a new player's jersey number and rating.\n",
    "#Append the values to the two vectors.\n",
    "'''Example:\n",
    "\n",
    "Enter a new player's jersey number:\n",
    "\n",
    "49\n",
    "\n",
    "Enter the player's rating:\n",
    "\n",
    "8'''\n",
    "#Step 6: Implement the \"Delete player\" menu option. Prompt the user for a player's jersey number. \n",
    "#Remove the player from the roster (delete the jersey number and rating).\n",
    "'''Example:\n",
    "\n",
    "Enter a jersey number:\n",
    "\n",
    "4'''\n",
    "#Step 7: Implement the \"Output players above a rating\" menu option. Prompt the user for a rating. \n",
    "#Print the jersey number and rating for all players with ratings above the entered value.\n",
    "'''Example:\n",
    "\n",
    "Enter a rating:\n",
    "\n",
    "5\n",
    "\n",
    "ABOVE 5\n",
    "\n",
    "Jersey number: 66, Rating: 9\n",
    "\n",
    "Jersey number: 84, Rating: 7\n",
    "\n",
    "'''"
   ]
  },
  {
   "cell_type": "code",
   "execution_count": null,
   "metadata": {},
   "outputs": [],
   "source": []
  }
 ],
 "metadata": {
  "kernelspec": {
   "display_name": "Python 3",
   "language": "python",
   "name": "python3"
  },
  "language_info": {
   "codemirror_mode": {
    "name": "ipython",
    "version": 3
   },
   "file_extension": ".py",
   "mimetype": "text/x-python",
   "name": "python",
   "nbconvert_exporter": "python",
   "pygments_lexer": "ipython3",
   "version": "3.8.5"
  }
 },
 "nbformat": 4,
 "nbformat_minor": 4
}
