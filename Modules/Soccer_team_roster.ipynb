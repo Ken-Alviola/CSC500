{
 "cells": [
  {
   "cell_type": "code",
   "execution_count": 17,
   "metadata": {
    "ExecuteTime": {
     "end_time": "2021-11-27T19:58:31.637929Z",
     "start_time": "2021-11-27T19:58:31.631597Z"
    }
   },
   "outputs": [],
   "source": [
    "def team_roster():\n",
    "    weight_list = []\n",
    "    \n",
    "    while len(weight_list) < 4:\n",
    "        weight_list.append(float(input('Enter weight in pounds to the nearest tenth: ')))\n",
    "    print()\n",
    "    \n",
    "    average_weight = sum(weight_list) / len(weight_list)\n",
    "    \n",
    "    print(f'Weights: {weight_list}')\n",
    "    print('Average weight: {:.2f}'.format(average_weight))\n",
    "    print('Max weight: {:.2f}'.format(max(weight_list)))"
   ]
  },
  {
   "cell_type": "code",
   "execution_count": 19,
   "metadata": {
    "ExecuteTime": {
     "end_time": "2021-11-27T19:59:07.311966Z",
     "start_time": "2021-11-27T19:58:52.197940Z"
    }
   },
   "outputs": [
    {
     "name": "stdout",
     "output_type": "stream",
     "text": [
      "Enter weight in pounds to the nearest tenth: 236.0\n",
      "Enter weight in pounds to the nearest tenth: 89.5\n",
      "Enter weight in pounds to the nearest tenth: 176.0\n",
      "Enter weight in pounds to the nearest tenth: 166.3\n",
      "\n",
      "Weights: [236.0, 89.5, 176.0, 166.3]\n",
      "Average weight: 166.95\n",
      "Max weight: 236.00\n"
     ]
    }
   ],
   "source": [
    "team_roster()"
   ]
  },
  {
   "cell_type": "code",
   "execution_count": 24,
   "metadata": {
    "ExecuteTime": {
     "end_time": "2021-12-21T21:13:58.896537Z",
     "start_time": "2021-12-21T21:13:58.890298Z"
    }
   },
   "outputs": [],
   "source": [
    "def player_input():\n",
    "    player_dict = {}\n",
    "    count = 1\n",
    "    \n",
    "    while len(player_dict) < 5:\n",
    "        jersey = input(f'Enter player {count}\\'s jersey number: ')\n",
    "        rating = int(input(f'Enter player {count}\\'s rating: '))\n",
    "        print()\n",
    "        count += 1\n",
    "        #update_dict = dict(Jersey = jersey, Rating= rating)\n",
    "        player_dict.update({jersey:rating})\n",
    "        print(player_dict)\n",
    "    \n",
    "                       "
   ]
  },
  {
   "cell_type": "code",
   "execution_count": 26,
   "metadata": {
    "ExecuteTime": {
     "end_time": "2021-12-21T21:15:47.209178Z",
     "start_time": "2021-12-21T21:15:27.366657Z"
    }
   },
   "outputs": [
    {
     "name": "stdout",
     "output_type": "stream",
     "text": [
      "Enter player 1's jersey number: 84\n",
      "Enter player 1's rating: 7\n",
      "\n",
      "{'84': 7}\n",
      "Enter player 2's jersey number: 23\n",
      "Enter player 2's rating: 4\n",
      "\n",
      "{'84': 7, '23': 4}\n",
      "Enter player 3's jersey number: 4\n",
      "Enter player 3's rating: 5\n",
      "\n",
      "{'84': 7, '23': 4, '4': 5}\n",
      "Enter player 4's jersey number: 30\n",
      "Enter player 4's rating: 2\n",
      "\n",
      "{'84': 7, '23': 4, '4': 5, '30': 2}\n",
      "Enter player 5's jersey number: 66\n",
      "Enter player 5's rating: 9\n",
      "\n",
      "{'84': 7, '23': 4, '4': 5, '30': 2, '66': 9}\n"
     ]
    }
   ],
   "source": [
    "player_input()"
   ]
  },
  {
   "cell_type": "code",
   "execution_count": null,
   "metadata": {},
   "outputs": [],
   "source": []
  }
 ],
 "metadata": {
  "kernelspec": {
   "display_name": "Python 3",
   "language": "python",
   "name": "python3"
  },
  "language_info": {
   "codemirror_mode": {
    "name": "ipython",
    "version": 3
   },
   "file_extension": ".py",
   "mimetype": "text/x-python",
   "name": "python",
   "nbconvert_exporter": "python",
   "pygments_lexer": "ipython3",
   "version": "3.8.5"
  }
 },
 "nbformat": 4,
 "nbformat_minor": 4
}
