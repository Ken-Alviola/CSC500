{
 "cells": [
  {
   "cell_type": "code",
   "execution_count": 7,
   "metadata": {
    "ExecuteTime": {
     "end_time": "2021-11-23T22:58:35.507770Z",
     "start_time": "2021-11-23T22:58:35.502633Z"
    }
   },
   "outputs": [],
   "source": [
    "from numpy import random"
   ]
  },
  {
   "cell_type": "code",
   "execution_count": 13,
   "metadata": {
    "ExecuteTime": {
     "end_time": "2021-11-23T22:59:50.248200Z",
     "start_time": "2021-11-23T22:59:50.242419Z"
    }
   },
   "outputs": [],
   "source": [
    "array1 = random.randint(0,100,10)\n",
    "array2 = random.randint(0,100,10)\n",
    "array3 = random.randint(0,100,10)"
   ]
  },
  {
   "cell_type": "code",
   "execution_count": 14,
   "metadata": {
    "ExecuteTime": {
     "end_time": "2021-11-23T22:59:59.670332Z",
     "start_time": "2021-11-23T22:59:59.661989Z"
    }
   },
   "outputs": [
    {
     "data": {
      "text/plain": [
       "(array([ 5, 17, 70, 37, 43, 81, 98, 91, 99, 97]),\n",
       " array([21, 54, 48, 98, 98, 20, 12, 23, 52, 99]),\n",
       " array([85, 77, 17, 79, 97, 94, 25, 40, 89, 81]))"
      ]
     },
     "execution_count": 14,
     "metadata": {},
     "output_type": "execute_result"
    }
   ],
   "source": [
    "array1, array2, array3"
   ]
  },
  {
   "cell_type": "code",
   "execution_count": 36,
   "metadata": {
    "ExecuteTime": {
     "end_time": "2021-11-24T23:21:02.378934Z",
     "start_time": "2021-11-24T23:21:02.368538Z"
    }
   },
   "outputs": [],
   "source": [
    "def sum_of_arrays(array1,array2,array3):\n",
    "    element_list1 = []\n",
    "    element_list2 = []\n",
    "    element_list3 = []\n",
    "    \n",
    "    while len(element_list1) < 3:\n",
    "        element_list1.append(int(input('Select an index # (0-9) from the first array: ')))\n",
    "    print() \n",
    "    \n",
    "    while len(element_list2) < 3:\n",
    "        element_list2.append(int(input('Select an index # (0-9) from the second array: ')))\n",
    "    print()\n",
    "    \n",
    "    while len(element_list3) < 3:\n",
    "        element_list3.append(int(input('Select an index # (0-9) from the third array: ')))\n",
    "    print()\n",
    "    \n",
    "    array1_sum = array1[element_list1[0]] + array1[element_list1[1]] + array1[element_list1[2]]\n",
    "    array2_sum = array2[element_list2[0]] + array2[element_list2[1]] + array2[element_list2[2]]\n",
    "    array3_sum = array3[element_list3[0]] + array3[element_list3[1]] + array3[element_list3[2]]\n",
    "    total_sum = array1_sum + array2_sum + array3_sum\n",
    "    \n",
    "    print(f'Array 1: {array1[element_list1[0]]} + {array1[element_list1[1]]} + {array1[element_list1[2]]} = {array1_sum}')\n",
    "    print(f'Array 2: {array2[element_list2[0]]} + {array2[element_list2[1]]} + {array2[element_list2[2]]} = {array2_sum}')\n",
    "    print(f'Array 3: {array3[element_list3[0]]} + {array3[element_list3[1]]} + {array3[element_list3[2]]} = {array3_sum}')\n",
    "    print(f'Total sum: {total_sum}')"
   ]
  },
  {
   "cell_type": "code",
   "execution_count": 37,
   "metadata": {
    "ExecuteTime": {
     "end_time": "2021-11-24T23:21:14.912778Z",
     "start_time": "2021-11-24T23:21:03.338972Z"
    }
   },
   "outputs": [
    {
     "name": "stdout",
     "output_type": "stream",
     "text": [
      "Select an index # (0-9) from the first array: 3\n",
      "Select an index # (0-9) from the first array: 8\n",
      "Select an index # (0-9) from the first array: 4\n",
      "\n",
      "Select an index # (0-9) from the second array: 9\n",
      "Select an index # (0-9) from the second array: 7\n",
      "Select an index # (0-9) from the second array: 1\n",
      "\n",
      "Select an index # (0-9) from the third array: 3\n",
      "Select an index # (0-9) from the third array: 6\n",
      "Select an index # (0-9) from the third array: 5\n",
      "\n",
      "Array 1: 37 + 99 + 43 = 179\n",
      "Array 2: 99 + 23 + 54 = 176\n",
      "Array 3: 79 + 25 + 94 = 198\n",
      "Total sum: 553\n"
     ]
    }
   ],
   "source": [
    "sum_of_arrays(array1,array2,array3)"
   ]
  },
  {
   "cell_type": "code",
   "execution_count": 38,
   "metadata": {
    "ExecuteTime": {
     "end_time": "2021-11-24T23:21:28.186265Z",
     "start_time": "2021-11-24T23:21:28.176498Z"
    }
   },
   "outputs": [
    {
     "data": {
      "text/plain": [
       "(array([ 5, 17, 70, 37, 43, 81, 98, 91, 99, 97]),\n",
       " array([21, 54, 48, 98, 98, 20, 12, 23, 52, 99]),\n",
       " array([85, 77, 17, 79, 97, 94, 25, 40, 89, 81]))"
      ]
     },
     "execution_count": 38,
     "metadata": {},
     "output_type": "execute_result"
    }
   ],
   "source": [
    "array1,array2,array3"
   ]
  }
 ],
 "metadata": {
  "kernelspec": {
   "display_name": "Python 3",
   "language": "python",
   "name": "python3"
  },
  "language_info": {
   "codemirror_mode": {
    "name": "ipython",
    "version": 3
   },
   "file_extension": ".py",
   "mimetype": "text/x-python",
   "name": "python",
   "nbconvert_exporter": "python",
   "pygments_lexer": "ipython3",
   "version": "3.8.5"
  }
 },
 "nbformat": 4,
 "nbformat_minor": 4
}
