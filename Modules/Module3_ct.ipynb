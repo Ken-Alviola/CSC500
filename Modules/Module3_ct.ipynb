{
 "cells": [
  {
   "cell_type": "code",
   "execution_count": 7,
   "metadata": {
    "ExecuteTime": {
     "end_time": "2021-11-23T22:58:35.507770Z",
     "start_time": "2021-11-23T22:58:35.502633Z"
    }
   },
   "outputs": [],
   "source": [
    "from numpy import random"
   ]
  },
  {
   "cell_type": "code",
   "execution_count": 13,
   "metadata": {
    "ExecuteTime": {
     "end_time": "2021-11-23T22:59:50.248200Z",
     "start_time": "2021-11-23T22:59:50.242419Z"
    }
   },
   "outputs": [],
   "source": [
    "array1 = random.randint(0,100,10)\n",
    "array2 = random.randint(0,100,10)\n",
    "array3 = random.randint(0,100,10)"
   ]
  },
  {
   "cell_type": "code",
   "execution_count": 14,
   "metadata": {
    "ExecuteTime": {
     "end_time": "2021-11-23T22:59:59.670332Z",
     "start_time": "2021-11-23T22:59:59.661989Z"
    }
   },
   "outputs": [
    {
     "data": {
      "text/plain": [
       "(array([ 5, 17, 70, 37, 43, 81, 98, 91, 99, 97]),\n",
       " array([21, 54, 48, 98, 98, 20, 12, 23, 52, 99]),\n",
       " array([85, 77, 17, 79, 97, 94, 25, 40, 89, 81]))"
      ]
     },
     "execution_count": 14,
     "metadata": {},
     "output_type": "execute_result"
    }
   ],
   "source": [
    "array1, array2, array3"
   ]
  },
  {
   "cell_type": "code",
   "execution_count": 15,
   "metadata": {
    "ExecuteTime": {
     "end_time": "2021-11-23T23:00:21.089147Z",
     "start_time": "2021-11-23T23:00:21.082061Z"
    }
   },
   "outputs": [
    {
     "data": {
      "text/plain": [
       "79"
      ]
     },
     "execution_count": 15,
     "metadata": {},
     "output_type": "execute_result"
    }
   ],
   "source": [
    "array3[3]"
   ]
  },
  {
   "cell_type": "code",
   "execution_count": 16,
   "metadata": {
    "ExecuteTime": {
     "end_time": "2021-11-24T22:16:21.774154Z",
     "start_time": "2021-11-24T22:16:21.690948Z"
    }
   },
   "outputs": [
    {
     "ename": "NameError",
     "evalue": "name 'coworkers_went_into_anaphylaxis_eating_here' is not defined",
     "output_type": "error",
     "traceback": [
      "\u001b[0;31m---------------------------------------------------------------------------\u001b[0m",
      "\u001b[0;31mNameError\u001b[0m                                 Traceback (most recent call last)",
      "\u001b[0;32m<ipython-input-16-210793cae5b0>\u001b[0m in \u001b[0;36m<module>\u001b[0;34m\u001b[0m\n\u001b[0;32m----> 1\u001b[0;31m \u001b[0;32mif\u001b[0m \u001b[0mcoworkers_went_into_anaphylaxis_eating_here\u001b[0m \u001b[0;34m==\u001b[0m \u001b[0;32mTrue\u001b[0m\u001b[0;34m:\u001b[0m\u001b[0;34m\u001b[0m\u001b[0;34m\u001b[0m\u001b[0m\n\u001b[0m\u001b[1;32m      2\u001b[0m     \u001b[0;32mif\u001b[0m \u001b[0mthe_food\u001b[0m \u001b[0;34m>=\u001b[0m \u001b[0mgood_enough_to_risk_it\u001b[0m\u001b[0;34m:\u001b[0m\u001b[0;34m\u001b[0m\u001b[0;34m\u001b[0m\u001b[0m\n\u001b[1;32m      3\u001b[0m         \u001b[0mprint\u001b[0m\u001b[0;34m(\u001b[0m\u001b[0;34m\"YOLO. Get your EpiPens ready\"\u001b[0m\u001b[0;34m)\u001b[0m\u001b[0;34m\u001b[0m\u001b[0;34m\u001b[0m\u001b[0m\n\u001b[1;32m      4\u001b[0m     \u001b[0;32melse\u001b[0m\u001b[0;34m:\u001b[0m\u001b[0;34m\u001b[0m\u001b[0;34m\u001b[0m\u001b[0m\n\u001b[1;32m      5\u001b[0m         \u001b[0mprint\u001b[0m\u001b[0;34m(\u001b[0m\u001b[0;34m\"Let's eat somewhere else\"\u001b[0m\u001b[0;34m)\u001b[0m\u001b[0;34m\u001b[0m\u001b[0;34m\u001b[0m\u001b[0m\n",
      "\u001b[0;31mNameError\u001b[0m: name 'coworkers_went_into_anaphylaxis_eating_here' is not defined"
     ]
    }
   ],
   "source": [
    "if coworkers_went_into_anaphylaxis_eating_here == True:\n",
    "    if the_food >= good_enough_to_risk_it:\n",
    "        print(\"YOLO. Get your EpiPens ready\")\n",
    "    else:\n",
    "        print(\"Let's eat somewhere else\")\n",
    "        \n",
    "elif ((insects in menu) or (exotic_meat in menu)):\n",
    "    if tried_it_before == True and it_was_good == True:\n",
    "        print(\"Chow down and don't tell anyone what you ate\")\n",
    "    else:\n",
    "        print(\"Don't order the silkworms/grasshoppers/dolphin\")\n",
    "        \n",
    "else:\n",
    "    print(\"I'm ordering room service or going to McDonalds\")\n",
    "        "
   ]
  },
  {
   "cell_type": "code",
   "execution_count": 17,
   "metadata": {
    "ExecuteTime": {
     "end_time": "2021-11-24T22:17:18.469566Z",
     "start_time": "2021-11-24T22:17:18.460361Z"
    }
   },
   "outputs": [
    {
     "data": {
      "text/plain": [
       "\"Don't order the silkworms/grasshoppers/dolphin\""
      ]
     },
     "execution_count": 17,
     "metadata": {},
     "output_type": "execute_result"
    }
   ],
   "source": [
    "\"Don't order the silkworms/grasshoppers/dolphin\""
   ]
  },
  {
   "cell_type": "code",
   "execution_count": null,
   "metadata": {},
   "outputs": [],
   "source": []
  }
 ],
 "metadata": {
  "kernelspec": {
   "display_name": "Python 3",
   "language": "python",
   "name": "python3"
  },
  "language_info": {
   "codemirror_mode": {
    "name": "ipython",
    "version": 3
   },
   "file_extension": ".py",
   "mimetype": "text/x-python",
   "name": "python",
   "nbconvert_exporter": "python",
   "pygments_lexer": "ipython3",
   "version": "3.8.5"
  }
 },
 "nbformat": 4,
 "nbformat_minor": 4
}
