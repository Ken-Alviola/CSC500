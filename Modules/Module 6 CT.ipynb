{
 "cells": [
  {
   "cell_type": "code",
   "execution_count": 7,
   "metadata": {
    "ExecuteTime": {
     "end_time": "2021-12-21T19:48:58.036542Z",
     "start_time": "2021-12-21T19:48:58.027782Z"
    }
   },
   "outputs": [],
   "source": [
    "course_info_dict = {'CSC101': {'Room #': 3004, 'Instructor': 'Haynes', 'Meeting Time': '8:00am'},\n",
    "                    'CSC102': {'Room #': 4501, 'Instructor': 'Alvarado', 'Meeting Time': '9:00am'},\n",
    "                    'CSC103': {'Room #': 6755, 'Instructor': 'Rich', 'Meeting Time': '10:00am'},\n",
    "                    'NET110': {'Room #': 1244, 'Instructor': 'Burke', 'Meeting Time': '11:00am'},\n",
    "                    'COM241': {'Room #': 1411, 'Instructor': 'Lee', 'Meeting Time': '1:00pm'}\n",
    "                    }"
   ]
  },
  {
   "cell_type": "code",
   "execution_count": 6,
   "metadata": {
    "ExecuteTime": {
     "end_time": "2021-12-21T19:48:37.466048Z",
     "start_time": "2021-12-21T19:48:37.451507Z"
    }
   },
   "outputs": [
    {
     "ename": "KeyError",
     "evalue": "1",
     "output_type": "error",
     "traceback": [
      "\u001b[0;31m---------------------------------------------------------------------------\u001b[0m",
      "\u001b[0;31mKeyError\u001b[0m                                  Traceback (most recent call last)",
      "\u001b[0;32m<ipython-input-6-058d8c240dd2>\u001b[0m in \u001b[0;36m<module>\u001b[0;34m\u001b[0m\n\u001b[0;32m----> 1\u001b[0;31m \u001b[0mcourse_info\u001b[0m\u001b[0;34m[\u001b[0m\u001b[0;36m1\u001b[0m\u001b[0;34m]\u001b[0m\u001b[0;34m\u001b[0m\u001b[0;34m\u001b[0m\u001b[0m\n\u001b[0m",
      "\u001b[0;31mKeyError\u001b[0m: 1"
     ]
    }
   ],
   "source": [
    "def course_info():\n",
    "    course_num = input('Enter a course number: ')"
   ]
  },
  {
   "cell_type": "code",
   "execution_count": null,
   "metadata": {},
   "outputs": [],
   "source": []
  }
 ],
 "metadata": {
  "kernelspec": {
   "display_name": "Python 3",
   "language": "python",
   "name": "python3"
  },
  "language_info": {
   "codemirror_mode": {
    "name": "ipython",
    "version": 3
   },
   "file_extension": ".py",
   "mimetype": "text/x-python",
   "name": "python",
   "nbconvert_exporter": "python",
   "pygments_lexer": "ipython3",
   "version": "3.8.5"
  }
 },
 "nbformat": 4,
 "nbformat_minor": 4
}
