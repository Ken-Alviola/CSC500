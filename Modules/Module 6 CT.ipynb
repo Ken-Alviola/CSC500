{
 "cells": [
  {
   "cell_type": "code",
   "execution_count": 21,
   "metadata": {
    "ExecuteTime": {
     "end_time": "2021-12-21T20:04:29.408764Z",
     "start_time": "2021-12-21T20:04:29.403073Z"
    }
   },
   "outputs": [],
   "source": [
    "course_info_dict = {'CSC101': {'Room #':3004, 'Instructor': 'Haynes', 'Meeting Time': '8:00am'},\n",
    "                    'CSC102': {'Room #':4501, 'Instructor': 'Alvarado', 'Meeting Time': '9:00am'},\n",
    "                    'CSC103': {'Room #':6755, 'Instructor': 'Rich', 'Meeting Time': '10:00am'},\n",
    "                    'NET110': {'Room #':1244, 'Instructor': 'Burke', 'Meeting Time': '11:00am'},\n",
    "                    'COM241': {'Room #':1411, 'Instructor': 'Lee', 'Meeting Time': '1:00pm'}\n",
    "                    }"
   ]
  },
  {
   "cell_type": "code",
   "execution_count": 31,
   "metadata": {
    "ExecuteTime": {
     "end_time": "2021-12-23T21:25:25.245644Z",
     "start_time": "2021-12-23T21:25:25.206722Z"
    }
   },
   "outputs": [],
   "source": [
    "def course_info(course_info_dict):\n",
    "    course_num = input('Enter a course number: ').upper()\n",
    "    print('----------------------')\n",
    "\n",
    "    if course_num in course_info_dict:\n",
    "        print('Room #:', course_info_dict[course_num]['Room #'])\n",
    "        print('Instructor:', course_info_dict[course_num]['Instructor'])\n",
    "        print('Meeting Time:', course_info_dict[course_num]['Meeting Time'])\n",
    "        print()\n",
    "    else:\n",
    "        print('Not found. Try again.')\n",
    "        \n",
    "    "
   ]
  },
  {
   "cell_type": "code",
   "execution_count": 29,
   "metadata": {
    "ExecuteTime": {
     "end_time": "2021-12-21T20:08:58.696080Z",
     "start_time": "2021-12-21T20:08:41.002967Z"
    }
   },
   "outputs": [
    {
     "name": "stdout",
     "output_type": "stream",
     "text": [
      "Enter a course number: net110\n",
      "----------------------\n",
      "Room #: 1244\n",
      "Instructor: Burke\n",
      "Meeting Time: 11:00am\n",
      "\n",
      "Enter a course number: Com241\n",
      "----------------------\n",
      "Room #: 1411\n",
      "Instructor: Lee\n",
      "Meeting Time: 1:00pm\n",
      "\n",
      "Enter a course number: CSc103\n",
      "----------------------\n",
      "Room #: 6755\n",
      "Instructor: Rich\n",
      "Meeting Time: 10:00am\n",
      "\n"
     ]
    },
    {
     "data": {
      "text/plain": [
       "(None, None, None)"
      ]
     },
     "execution_count": 29,
     "metadata": {},
     "output_type": "execute_result"
    }
   ],
   "source": [
    "course_info(course_info_dict), course_info(course_info_dict), course_info(course_info_dict)"
   ]
  }
 ],
 "metadata": {
  "kernelspec": {
   "display_name": "Python 3",
   "language": "python",
   "name": "python3"
  },
  "language_info": {
   "codemirror_mode": {
    "name": "ipython",
    "version": 3
   },
   "file_extension": ".py",
   "mimetype": "text/x-python",
   "name": "python",
   "nbconvert_exporter": "python",
   "pygments_lexer": "ipython3",
   "version": "3.8.5"
  }
 },
 "nbformat": 4,
 "nbformat_minor": 4
}
