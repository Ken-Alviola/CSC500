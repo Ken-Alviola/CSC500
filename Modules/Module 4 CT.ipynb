{
 "cells": [
  {
   "cell_type": "markdown",
   "metadata": {},
   "source": [
    "Write a program that uses nested loops to collect data and calculate the average rainfall over a period of years. The program should first ask for the number of years. The outer loop will iterate once for each year. The inner loop will iterate twelve times, once for each month. Each iteration of the inner loop will ask the user for the inches of rainfall for that month. After all iterations, the program should display the number of months, the total inches of rainfall, and the average rainfall per month for the entire period. \n",
    "\n",
    "Compile and submit your source code and screenshots of the application executing the code and the results in a single document."
   ]
  },
  {
   "cell_type": "code",
   "execution_count": 20,
   "metadata": {
    "ExecuteTime": {
     "end_time": "2021-12-07T20:50:54.056433Z",
     "start_time": "2021-12-07T20:50:54.049371Z"
    }
   },
   "outputs": [],
   "source": [
    "def rainfall():\n",
    "    monthly_rain = []\n",
    "    year_count = 1\n",
    "    months = ['January','February','March','April','May','June','July','August','September','October','November','December']\n",
    "     \n",
    "    num_years = int(input('Enter the # of years: '))\n",
    "    print()\n",
    "    \n",
    "    for year in range(num_years):\n",
    "        month_index = 0\n",
    "        \n",
    "        for month in range(12):\n",
    "            print(f'{months[month_index]} year {year_count} - ',end='')\n",
    "            monthly_rain.append(float(input('Enter the rainfall in inches: ')))\n",
    "            month_index += 1\n",
    "        \n",
    "        year_count += 1\n",
    "        \n",
    "        \n",
    "    print()\n",
    "    print(f'Number of months: {len(monthly_rain)} months')\n",
    "    print(f'Total rainfall: {round(sum(monthly_rain),2)} inches')\n",
    "    print(f'Average rainfall: {round(sum(monthly_rain)/len(monthly_rain),2)} inches')"
   ]
  },
  {
   "cell_type": "code",
   "execution_count": 21,
   "metadata": {
    "ExecuteTime": {
     "end_time": "2021-12-07T20:51:53.172931Z",
     "start_time": "2021-12-07T20:50:55.146478Z"
    }
   },
   "outputs": [
    {
     "name": "stdout",
     "output_type": "stream",
     "text": [
      "Enter the # of years: 2\n",
      "\n",
      "January year 1 - Enter the rainfall in inches: 23.4\n",
      "February year 1 - Enter the rainfall in inches: 23.3\n",
      "March year 1 - Enter the rainfall in inches: 23.7\n",
      "April year 1 - Enter the rainfall in inches: 1.2\n",
      "May year 1 - Enter the rainfall in inches: 45.6\n",
      "June year 1 - Enter the rainfall in inches: 23.4\n",
      "July year 1 - Enter the rainfall in inches: 23.1\n",
      "August year 1 - Enter the rainfall in inches: 67.3\n",
      "September year 1 - Enter the rainfall in inches: 24.1\n",
      "October year 1 - Enter the rainfall in inches: 54.2\n",
      "November year 1 - Enter the rainfall in inches: 21.2\n",
      "December year 1 - Enter the rainfall in inches: 12\n",
      "January year 2 - Enter the rainfall in inches: 12.4\n",
      "February year 2 - Enter the rainfall in inches: 23.5\n",
      "March year 2 - Enter the rainfall in inches: 12.1\n",
      "April year 2 - Enter the rainfall in inches: 63.2\n",
      "May year 2 - Enter the rainfall in inches: 12.5\n",
      "June year 2 - Enter the rainfall in inches: 12.5\n",
      "July year 2 - Enter the rainfall in inches: 2.2\n",
      "August year 2 - Enter the rainfall in inches: 12.2\n",
      "September year 2 - Enter the rainfall in inches: 45.2\n",
      "October year 2 - Enter the rainfall in inches: 12.1\n",
      "November year 2 - Enter the rainfall in inches: 34.7\n",
      "December year 2 - Enter the rainfall in inches: 45.3\n",
      "\n",
      "Number of months: 24 months\n",
      "Total rainfall: 630.4 inches\n",
      "Average rainfall: 26.27 inches\n"
     ]
    }
   ],
   "source": [
    "rainfall()"
   ]
  },
  {
   "cell_type": "code",
   "execution_count": null,
   "metadata": {},
   "outputs": [],
   "source": [
    " "
   ]
  }
 ],
 "metadata": {
  "kernelspec": {
   "display_name": "Python 3",
   "language": "python",
   "name": "python3"
  },
  "language_info": {
   "codemirror_mode": {
    "name": "ipython",
    "version": 3
   },
   "file_extension": ".py",
   "mimetype": "text/x-python",
   "name": "python",
   "nbconvert_exporter": "python",
   "pygments_lexer": "ipython3",
   "version": "3.8.5"
  }
 },
 "nbformat": 4,
 "nbformat_minor": 4
}
