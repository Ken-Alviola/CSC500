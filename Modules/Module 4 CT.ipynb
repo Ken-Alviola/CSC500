{
 "cells": [
  {
   "cell_type": "markdown",
   "metadata": {},
   "source": [
    "Write a program that uses nested loops to collect data and calculate the average rainfall over a period of years. The program should first ask for the number of years. The outer loop will iterate once for each year. The inner loop will iterate twelve times, once for each month. Each iteration of the inner loop will ask the user for the inches of rainfall for that month. After all iterations, the program should display the number of months, the total inches of rainfall, and the average rainfall per month for the entire period. \n",
    "\n",
    "Compile and submit your source code and screenshots of the application executing the code and the results in a single document."
   ]
  },
  {
   "cell_type": "code",
   "execution_count": 31,
   "metadata": {
    "ExecuteTime": {
     "end_time": "2021-12-07T21:17:13.781223Z",
     "start_time": "2021-12-07T21:17:13.772330Z"
    }
   },
   "outputs": [],
   "source": [
    "def rainfall():\n",
    "    monthly_rain = []\n",
    "    year_count = 1\n",
    "    months = ['January', 'February', 'March', 'April', 'May', 'June',\n",
    "              'July', 'August', 'September', 'October', 'November', 'December']\n",
    "\n",
    "    num_years = int(input('Enter the # of years: '))\n",
    "    print()\n",
    "\n",
    "    for year in range(num_years):\n",
    "        month_index = 0\n",
    "        print(\n",
    "            f'Please enter the rainfall for each month in inches for year {year_count}: ')\n",
    "        print()\n",
    "\n",
    "        for month in range(12):\n",
    "            print(f'{months[month_index]} year {year_count} - ', end='')\n",
    "            monthly_rain.append(float(input()))\n",
    "            month_index += 1\n",
    "\n",
    "        print('--------------------------------------------------------------')\n",
    "        print()\n",
    "        year_count += 1\n",
    "\n",
    "    print(f'Number of months: {len(monthly_rain)} months')\n",
    "    print(f'Total rainfall: {round(sum(monthly_rain), 2)} inches')\n",
    "    print(f'Average monthly rainfall: {round(sum(monthly_rain)/len(monthly_rain), 2)} inches')"
   ]
  },
  {
   "cell_type": "code",
   "execution_count": 29,
   "metadata": {
    "ExecuteTime": {
     "end_time": "2021-12-07T21:06:58.494193Z",
     "start_time": "2021-12-07T21:05:56.055858Z"
    }
   },
   "outputs": [
    {
     "name": "stdout",
     "output_type": "stream",
     "text": [
      "Enter the # of years: 2\n",
      "\n",
      "Please enter the rainfall for each month in inches for year 1: \n",
      "January year 1 - 12.4\n",
      "February year 1 - 24.6\n",
      "March year 1 - 12.5\n",
      "April year 1 - 12.6\n",
      "May year 1 - 35.1\n",
      "June year 1 - 64.2\n",
      "July year 1 - 34.7\n",
      "August year 1 - 23.6\n",
      "September year 1 - 34.7\n",
      "October year 1 - 34.3\n",
      "November year 1 - 55.4\n",
      "December year 1 - 34.3\n",
      "--------------------------------------------------------------\n",
      "\n",
      "Please enter the rainfall for each month in inches for year 2: \n",
      "January year 2 - 12.4\n",
      "February year 2 - 23.6\n",
      "March year 2 - 12.2\n",
      "April year 2 - 65.2\n",
      "May year 2 - 2.2\n",
      "June year 2 - 2.4\n",
      "July year 2 - 1.5\n",
      "August year 2 - 11.3\n",
      "September year 2 - 3.4\n",
      "October year 2 - 3.66\n",
      "November year 2 - 3.553\n",
      "December year 2 - 2.54\n",
      "--------------------------------------------------------------\n",
      "\n",
      "Number of months: 24 months\n",
      "Total rainfall: 522.35 inches\n",
      "Average monthly rainfall: 21.76 inches\n"
     ]
    }
   ],
   "source": [
    "rainfall()"
   ]
  },
  {
   "cell_type": "code",
   "execution_count": 40,
   "metadata": {
    "ExecuteTime": {
     "end_time": "2021-12-08T19:19:43.886769Z",
     "start_time": "2021-12-08T19:18:21.023497Z"
    }
   },
   "outputs": [
    {
     "name": "stdout",
     "output_type": "stream",
     "text": [
      "Enter the initial deposit in $: 1000\n",
      "Enter the holding period in days: 60\n",
      "Value after 60.0 days: $19025.19\n",
      "Type n to quit or any other key to calculate another: n\n",
      "\n"
     ]
    }
   ],
   "source": [
    "user_input = ''\n",
    "reward_yield = 0.0165\n",
    "\n",
    "while user_input != 'n':\n",
    "    initial_deposit = float(input('Enter the initial deposit in $: '))\n",
    "    num_compounds = int(input('Enter the holding period in days: ')) * 3\n",
    "\n",
    "    for num in range(num_compounds):\n",
    "        if num == 0:\n",
    "            value = initial_deposit + (initial_deposit * reward_yield)\n",
    "        else:\n",
    "            value += (value * reward_yield)\n",
    "\n",
    "    print(f'Value after {num_compounds / 3} days: ${round(value,2)}')\n",
    "    user_input = input('Type n to quit or any other key to calculate another: ')\n",
    "    print()"
   ]
  },
  {
   "cell_type": "code",
   "execution_count": null,
   "metadata": {},
   "outputs": [],
   "source": []
  }
 ],
 "metadata": {
  "kernelspec": {
   "display_name": "Python 3",
   "language": "python",
   "name": "python3"
  },
  "language_info": {
   "codemirror_mode": {
    "name": "ipython",
    "version": 3
   },
   "file_extension": ".py",
   "mimetype": "text/x-python",
   "name": "python",
   "nbconvert_exporter": "python",
   "pygments_lexer": "ipython3",
   "version": "3.8.5"
  }
 },
 "nbformat": 4,
 "nbformat_minor": 4
}
