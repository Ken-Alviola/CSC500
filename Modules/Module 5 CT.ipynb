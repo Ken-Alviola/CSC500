{
 "cells": [
  {
   "cell_type": "code",
   "execution_count": 18,
   "metadata": {
    "ExecuteTime": {
     "end_time": "2021-12-14T21:01:58.017203Z",
     "start_time": "2021-12-14T21:01:58.010887Z"
    }
   },
   "outputs": [],
   "source": [
    "def book_awards():\n",
    "    num_books = int(input('Enter the # of books you purchased this month: '))\n",
    "\n",
    "    if num_books >= 8:\n",
    "        award_points = 60\n",
    "        \n",
    "    elif num_books >= 6 < 8:\n",
    "        award_points = 30\n",
    "        \n",
    "    elif num_books >= 4 < 6:\n",
    "        award_points = 15\n",
    "        \n",
    "    elif num_books >= 2 < 4:\n",
    "        award_points = 5\n",
    "        \n",
    "    else:\n",
    "        award_points = 0\n",
    "\n",
    "    print(f'You have earned {award_points} points')\n",
    "    print()"
   ]
  },
  {
   "cell_type": "code",
   "execution_count": 20,
   "metadata": {
    "ExecuteTime": {
     "end_time": "2021-12-14T21:10:02.651366Z",
     "start_time": "2021-12-14T21:09:55.957689Z"
    }
   },
   "outputs": [
    {
     "name": "stdout",
     "output_type": "stream",
     "text": [
      "Enter the # of books you purchased this month: 1\n",
      "You have earned 0 points\n",
      "\n",
      "Enter the # of books you purchased this month: 2\n",
      "You have earned 5 points\n",
      "\n",
      "Enter the # of books you purchased this month: 3\n",
      "You have earned 5 points\n",
      "\n",
      "Enter the # of books you purchased this month: 4\n",
      "You have earned 15 points\n",
      "\n",
      "Enter the # of books you purchased this month: 5\n",
      "You have earned 15 points\n",
      "\n",
      "Enter the # of books you purchased this month: 6\n",
      "You have earned 30 points\n",
      "\n",
      "Enter the # of books you purchased this month: 7\n",
      "You have earned 30 points\n",
      "\n",
      "Enter the # of books you purchased this month: 8\n",
      "You have earned 60 points\n",
      "\n",
      "Enter the # of books you purchased this month: 9\n",
      "You have earned 60 points\n",
      "\n"
     ]
    },
    {
     "data": {
      "text/plain": [
       "(None, None, None, None)"
      ]
     },
     "execution_count": 20,
     "metadata": {},
     "output_type": "execute_result"
    }
   ],
   "source": [
    "book_awards(), book_awards(), book_awards(), book_awards(), book_awards(),\n",
    "book_awards(), book_awards(), book_awards(), book_awards()"
   ]
  },
  {
   "cell_type": "code",
   "execution_count": 24,
   "metadata": {
    "ExecuteTime": {
     "end_time": "2021-12-15T21:47:28.016767Z",
     "start_time": "2021-12-15T21:47:28.006535Z"
    }
   },
   "outputs": [
    {
     "data": {
      "text/plain": [
       "19   -9\n",
       "dtype: int64"
      ]
     },
     "execution_count": 24,
     "metadata": {},
     "output_type": "execute_result"
    }
   ],
   "source": [
    "import pandas as pd \n",
    "\n",
    "numbers = [2, 3, 4, 5, 6, 7, 8, 9, 10, 11, 13, 17, 19, 23, 256, -8, -4, -2, 5, -9]\n",
    "number_series = pd.Series(numbers)\n",
    "\n",
    "odd_AND_negative = number_series[(number_series < 0) & (number_series % 2 != 0)]\n",
    "odd_AND_negative"
   ]
  },
  {
   "cell_type": "code",
   "execution_count": 32,
   "metadata": {
    "ExecuteTime": {
     "end_time": "2021-12-15T21:49:39.912758Z",
     "start_time": "2021-12-15T21:49:39.904203Z"
    }
   },
   "outputs": [
    {
     "data": {
      "text/plain": [
       "1      3\n",
       "3      5\n",
       "5      7\n",
       "7      9\n",
       "9     11\n",
       "10    13\n",
       "11    17\n",
       "12    19\n",
       "13    23\n",
       "15    -8\n",
       "16    -4\n",
       "17    -2\n",
       "18     5\n",
       "19    -9\n",
       "dtype: int64"
      ]
     },
     "execution_count": 32,
     "metadata": {},
     "output_type": "execute_result"
    }
   ],
   "source": [
    "odd_OR_negative = number_series[(number_series < 0) | (number_series % 2 != 0)]\n",
    "odd_OR_negative"
   ]
  },
  {
   "cell_type": "code",
   "execution_count": null,
   "metadata": {},
   "outputs": [],
   "source": []
  }
 ],
 "metadata": {
  "kernelspec": {
   "display_name": "Python 3",
   "language": "python",
   "name": "python3"
  },
  "language_info": {
   "codemirror_mode": {
    "name": "ipython",
    "version": 3
   },
   "file_extension": ".py",
   "mimetype": "text/x-python",
   "name": "python",
   "nbconvert_exporter": "python",
   "pygments_lexer": "ipython3",
   "version": "3.8.5"
  }
 },
 "nbformat": 4,
 "nbformat_minor": 4
}
