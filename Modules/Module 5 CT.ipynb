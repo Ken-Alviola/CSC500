{
 "cells": [
  {
   "cell_type": "code",
   "execution_count": 1,
   "metadata": {
    "ExecuteTime": {
     "end_time": "2021-12-14T20:55:59.809088Z",
     "start_time": "2021-12-14T20:55:59.790105Z"
    }
   },
   "outputs": [],
   "source": [
    "def book_awards():\n",
    "    num_books = int(input('Enter the # of books you purchased this month: '))\n",
    "    if num_books >= 8:\n",
    "        award_points = 60\n",
    "    elif num_books >= 6 < 8:\n",
    "        award_points = 30\n",
    "    elif num_books >= 4 < 6:\n",
    "        award_points = 15\n",
    "    elif num_books >= 2 < 4:\n",
    "        award_points = 5\n",
    "    else:\n",
    "        award_points = 0\n",
    "    \n",
    "    print(f'You have earned {award_points} this month')"
   ]
  },
  {
   "cell_type": "code",
   "execution_count": 12,
   "metadata": {
    "ExecuteTime": {
     "end_time": "2021-12-14T20:58:30.961843Z",
     "start_time": "2021-12-14T20:58:29.606267Z"
    }
   },
   "outputs": [
    {
     "name": "stdout",
     "output_type": "stream",
     "text": [
      "Enter the # of books you purchased this month: 8\n",
      "You have earned 60 this month\n"
     ]
    }
   ],
   "source": [
    "book_awards()"
   ]
  }
 ],
 "metadata": {
  "kernelspec": {
   "display_name": "Python 3",
   "language": "python",
   "name": "python3"
  },
  "language_info": {
   "codemirror_mode": {
    "name": "ipython",
    "version": 3
   },
   "file_extension": ".py",
   "mimetype": "text/x-python",
   "name": "python",
   "nbconvert_exporter": "python",
   "pygments_lexer": "ipython3",
   "version": "3.8.5"
  }
 },
 "nbformat": 4,
 "nbformat_minor": 4
}
