{
 "cells": [
  {
   "cell_type": "code",
   "execution_count": 1,
   "metadata": {
    "ExecuteTime": {
     "end_time": "2021-12-31T06:16:46.557746Z",
     "start_time": "2021-12-31T06:16:46.552378Z"
    }
   },
   "outputs": [],
   "source": [
    "import hashlib\n",
    "import json\n",
    "from time import time"
   ]
  },
  {
   "cell_type": "code",
   "execution_count": 2,
   "metadata": {
    "ExecuteTime": {
     "end_time": "2021-12-31T06:16:46.584251Z",
     "start_time": "2021-12-31T06:16:46.566281Z"
    }
   },
   "outputs": [],
   "source": [
    "class Blockchain(object):\n",
    "    def __init__(self):\n",
    "        self.chain = []\n",
    "        self.pending_transactions = []\n",
    "\n",
    "        self.new_block(\n",
    "            previous_hash=\"The Times 03/Jan/2009 Chancellor on brink of second bailout for banks.\", proof=100)\n",
    "\n",
    "# Create a new block listing key/value pairs of block information in a JSON object.\n",
    "# Reset the list of pending transactions & append the newest block to the chain.\n",
    "\n",
    "    def new_block(self, proof, previous_hash=None):\n",
    "        block = {\n",
    "            'index': len(self.chain) + 1,\n",
    "            'timestamp': time(),\n",
    "            'transactions': self.pending_transactions,\n",
    "            'proof': proof,\n",
    "            'previous_hash': previous_hash or self.hash(self.chain[-1]),\n",
    "        }\n",
    "        self.pending_transactions = []\n",
    "        self.chain.append(block)\n",
    "\n",
    "        return block\n",
    "\n",
    "# Search the blockchain for the most recent block.\n",
    "\n",
    "    @property\n",
    "    def last_block(self):\n",
    "\n",
    "        return self.chain[-1]\n",
    "\n",
    "# Add a transaction with relevant info to the 'blockpool' - list of pending tx's.\n",
    "\n",
    "    def new_transaction(self, sender, recipient, amount):\n",
    "        transaction = {\n",
    "            'sender': sender,\n",
    "            'recipient': recipient,\n",
    "            'amount': amount\n",
    "        }\n",
    "        self.pending_transactions.append(transaction)\n",
    "        return self.last_block['index'] + 1\n",
    "\n",
    "# receive one block. Turn it into a string, turn that into Unicode (for hashing). Hash with SHA256 encryption, \n",
    "# then translate the Unicode into a hexidecimal string.\n",
    "\n",
    "    def hash(self, block):\n",
    "        string_object = json.dumps(block, sort_keys=True)\n",
    "        block_string = string_object.encode()\n",
    "\n",
    "        raw_hash = hashlib.sha256(block_string)\n",
    "        hex_hash = raw_hash.hexdigest()\n",
    "\n",
    "        return hex_hash"
   ]
  },
  {
   "cell_type": "code",
   "execution_count": 3,
   "metadata": {
    "ExecuteTime": {
     "end_time": "2021-12-31T06:16:46.614518Z",
     "start_time": "2021-12-31T06:16:46.597559Z"
    }
   },
   "outputs": [
    {
     "data": {
      "text/plain": [
       "{'index': 2,\n",
       " 'timestamp': 1640931406.601003,\n",
       " 'transactions': [{'sender': 'Satoshi',\n",
       "   'recipient': 'Mike',\n",
       "   'amount': '5 BTC'},\n",
       "  {'sender': 'Mike', 'recipient': 'Satoshi', 'amount': '1 BTC'},\n",
       "  {'sender': 'Satoshi', 'recipient': 'Hal Finney', 'amount': '5 BTC'}],\n",
       " 'proof': 12345,\n",
       " 'previous_hash': 'b7cfc14f0fa281cd865d3e41a23219a757b2b215870b670729803cd5ed2fbd90'}"
      ]
     },
     "execution_count": 3,
     "metadata": {},
     "output_type": "execute_result"
    }
   ],
   "source": [
    "blockchain = Blockchain()\n",
    "t1 = blockchain.new_transaction(\"Satoshi\", \"Mike\", '5 BTC')\n",
    "t2 = blockchain.new_transaction(\"Mike\", \"Satoshi\", '1 BTC')\n",
    "t3 = blockchain.new_transaction(\"Satoshi\", \"Hal Finney\", '5 BTC')\n",
    "blockchain.new_block(12345)"
   ]
  },
  {
   "cell_type": "code",
   "execution_count": 4,
   "metadata": {
    "ExecuteTime": {
     "end_time": "2021-12-31T06:16:46.633678Z",
     "start_time": "2021-12-31T06:16:46.622151Z"
    }
   },
   "outputs": [
    {
     "data": {
      "text/plain": [
       "{'index': 3,\n",
       " 'timestamp': 1640931406.626535,\n",
       " 'transactions': [{'sender': 'Mike', 'recipient': 'Alice', 'amount': '1 BTC'},\n",
       "  {'sender': 'Alice', 'recipient': 'Bob', 'amount': '0.5 BTC'},\n",
       "  {'sender': 'Bob', 'recipient': 'Mike', 'amount': '0.5 BTC'}],\n",
       " 'proof': 6789,\n",
       " 'previous_hash': '7ed2b2f79fcac0c8c47db92467ea6c251451ef311fc50fa753335dc5e337c55e'}"
      ]
     },
     "execution_count": 4,
     "metadata": {},
     "output_type": "execute_result"
    }
   ],
   "source": [
    "t4 = blockchain.new_transaction(\"Mike\", \"Alice\", '1 BTC')\n",
    "t5 = blockchain.new_transaction(\"Alice\", \"Bob\", '0.5 BTC')\n",
    "t6 = blockchain.new_transaction(\"Bob\", \"Mike\", '0.5 BTC')\n",
    "blockchain.new_block(6789)"
   ]
  },
  {
   "cell_type": "code",
   "execution_count": 5,
   "metadata": {
    "ExecuteTime": {
     "end_time": "2021-12-31T06:16:46.649513Z",
     "start_time": "2021-12-31T06:16:46.637962Z"
    }
   },
   "outputs": [
    {
     "data": {
      "text/plain": [
       "[{'index': 1,\n",
       "  'timestamp': 1640931406.600736,\n",
       "  'transactions': [],\n",
       "  'proof': 100,\n",
       "  'previous_hash': 'The Times 03/Jan/2009 Chancellor on brink of second bailout for banks.'},\n",
       " {'index': 2,\n",
       "  'timestamp': 1640931406.601003,\n",
       "  'transactions': [{'sender': 'Satoshi',\n",
       "    'recipient': 'Mike',\n",
       "    'amount': '5 BTC'},\n",
       "   {'sender': 'Mike', 'recipient': 'Satoshi', 'amount': '1 BTC'},\n",
       "   {'sender': 'Satoshi', 'recipient': 'Hal Finney', 'amount': '5 BTC'}],\n",
       "  'proof': 12345,\n",
       "  'previous_hash': 'b7cfc14f0fa281cd865d3e41a23219a757b2b215870b670729803cd5ed2fbd90'},\n",
       " {'index': 3,\n",
       "  'timestamp': 1640931406.626535,\n",
       "  'transactions': [{'sender': 'Mike', 'recipient': 'Alice', 'amount': '1 BTC'},\n",
       "   {'sender': 'Alice', 'recipient': 'Bob', 'amount': '0.5 BTC'},\n",
       "   {'sender': 'Bob', 'recipient': 'Mike', 'amount': '0.5 BTC'}],\n",
       "  'proof': 6789,\n",
       "  'previous_hash': '7ed2b2f79fcac0c8c47db92467ea6c251451ef311fc50fa753335dc5e337c55e'}]"
      ]
     },
     "execution_count": 5,
     "metadata": {},
     "output_type": "execute_result"
    }
   ],
   "source": [
    "blockchain.chain"
   ]
  },
  {
   "cell_type": "code",
   "execution_count": 6,
   "metadata": {
    "ExecuteTime": {
     "end_time": "2021-12-31T06:16:46.661512Z",
     "start_time": "2021-12-31T06:16:46.653734Z"
    }
   },
   "outputs": [
    {
     "data": {
      "text/plain": [
       "[]"
      ]
     },
     "execution_count": 6,
     "metadata": {},
     "output_type": "execute_result"
    }
   ],
   "source": [
    "blockchain.pending_transactions"
   ]
  },
  {
   "cell_type": "code",
   "execution_count": 7,
   "metadata": {
    "ExecuteTime": {
     "end_time": "2021-12-31T06:16:46.677226Z",
     "start_time": "2021-12-31T06:16:46.669728Z"
    }
   },
   "outputs": [
    {
     "data": {
      "text/plain": [
       "list"
      ]
     },
     "execution_count": 7,
     "metadata": {},
     "output_type": "execute_result"
    }
   ],
   "source": [
    "type(blockchain.chain)"
   ]
  },
  {
   "cell_type": "code",
   "execution_count": 16,
   "metadata": {
    "ExecuteTime": {
     "end_time": "2021-12-31T06:18:23.534804Z",
     "start_time": "2021-12-31T06:18:23.525411Z"
    }
   },
   "outputs": [
    {
     "data": {
      "text/plain": [
       "'Mike'"
      ]
     },
     "execution_count": 16,
     "metadata": {},
     "output_type": "execute_result"
    }
   ],
   "source": [
    "blockchain.chain[2]['transactions'][0]['sender']"
   ]
  },
  {
   "cell_type": "code",
   "execution_count": null,
   "metadata": {},
   "outputs": [],
   "source": []
  }
 ],
 "metadata": {
  "kernelspec": {
   "display_name": "Python 3",
   "language": "python",
   "name": "python3"
  },
  "language_info": {
   "codemirror_mode": {
    "name": "ipython",
    "version": 3
   },
   "file_extension": ".py",
   "mimetype": "text/x-python",
   "name": "python",
   "nbconvert_exporter": "python",
   "pygments_lexer": "ipython3",
   "version": "3.8.5"
  }
 },
 "nbformat": 4,
 "nbformat_minor": 4
}
