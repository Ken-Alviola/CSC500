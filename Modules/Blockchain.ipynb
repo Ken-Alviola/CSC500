{
 "cells": [
  {
   "cell_type": "code",
   "execution_count": 6,
   "metadata": {
    "ExecuteTime": {
     "end_time": "2021-11-30T19:23:16.910099Z",
     "start_time": "2021-11-30T19:23:16.906514Z"
    }
   },
   "outputs": [],
   "source": [
    "import hashlib\n",
    "import json\n",
    "from time import time"
   ]
  },
  {
   "cell_type": "code",
   "execution_count": null,
   "metadata": {
    "ExecuteTime": {
     "end_time": "2021-11-30T20:01:59.305088Z",
     "start_time": "2021-11-30T20:01:59.282791Z"
    }
   },
   "outputs": [],
   "source": [
    "class Blockchain(object):\n",
    "    def __init__(self):\n",
    "        self.chain = []\n",
    "        self.pending_transactions = []\n",
    "\n",
    "        self.new_block(\n",
    "            previous_hash=\"The Times 03/Jan/2009 Chancellor on brink of second bailout for banks.\", proof=100)\n",
    "\n",
    "# Create a new block listing key/value pairs of block information in a JSON object. Reset the list of pending transactions & append the newest block to the chain.\n",
    "\n",
    "    def new_block(self, proof, previous_hash=None):\n",
    "        block = {\n",
    "            'index': len(self.chain) + 1,\n",
    "            'timestamp': time(),\n",
    "            'transactions': self.pending_transactions,\n",
    "            'proof': proof,\n",
    "            'previous_hash': previous_hash or self.hash(self.chain[-1]),\n",
    "        }\n",
    "        self.pending_transactions = []\n",
    "        self.chain.append(block)\n",
    "\n",
    "        return block\n",
    "\n",
    "# Search the blockchain for the most recent block.\n",
    "\n",
    "    @property\n",
    "    def last_block(self):\n",
    "\n",
    "        return self.chain[-1]\n",
    "\n",
    "# Add a transaction with relevant info to the 'blockpool' - list of pending tx's.\n",
    "\n",
    "    def new_transaction(self, sender, recipient, amount):\n",
    "        transaction = {\n",
    "            'sender': sender,\n",
    "            'recipient': recipient,\n",
    "            'amount': amount\n",
    "        }\n",
    "        self.pending_transactions.append(transaction)\n",
    "        return self.last_block['index'] + 1\n",
    "\n",
    "# receive one block. Turn it into a string, turn that into Unicode (for hashing). Hash with SHA256 encryption, then translate the Unicode into a hexidecimal string.\n",
    "\n",
    "    def hash(self, block):\n",
    "        string_object = json.dumps(block, sort_keys=True)\n",
    "        block_string = string_object.encode()\n",
    "\n",
    "        raw_hash = hashlib.sha256(block_string)\n",
    "        hex_hash = raw_hash.hexdigest()\n",
    "\n",
    "        return hex_hash"
   ]
  },
  {
   "cell_type": "code",
   "execution_count": 25,
   "metadata": {
    "ExecuteTime": {
     "end_time": "2021-11-30T20:03:18.076193Z",
     "start_time": "2021-11-30T20:03:18.066376Z"
    }
   },
   "outputs": [
    {
     "data": {
      "text/plain": [
       "{'index': 2,\n",
       " 'timestamp': 1638302598.070046,\n",
       " 'transactions': [{'sender': 'Satoshi',\n",
       "   'recipient': 'Mike',\n",
       "   'amount': '5 BTC'},\n",
       "  {'sender': 'Mike', 'recipient': 'Satoshi', 'amount': '1 BTC'},\n",
       "  {'sender': 'Satoshi', 'recipient': 'Hal Finney', 'amount': '5 BTC'}],\n",
       " 'proof': 12345,\n",
       " 'previous_hash': 'ded642a9a5d78a90a08c06054e10c9a9c86bf5c15d41567947e4b9b9063ae855'}"
      ]
     },
     "execution_count": 25,
     "metadata": {},
     "output_type": "execute_result"
    }
   ],
   "source": [
    "blockchain = Blockchain()\n",
    "t1 = blockchain.new_transaction(\"Satoshi\", \"Mike\", '5 BTC')\n",
    "t2 = blockchain.new_transaction(\"Mike\", \"Satoshi\", '1 BTC')\n",
    "t3 = blockchain.new_transaction(\"Satoshi\", \"Hal Finney\", '5 BTC')\n",
    "blockchain.new_block(12345)"
   ]
  },
  {
   "cell_type": "code",
   "execution_count": 26,
   "metadata": {
    "ExecuteTime": {
     "end_time": "2021-11-30T20:03:18.186914Z",
     "start_time": "2021-11-30T20:03:18.181703Z"
    }
   },
   "outputs": [
    {
     "data": {
      "text/plain": [
       "{'index': 3,\n",
       " 'timestamp': 1638302598.182872,\n",
       " 'transactions': [{'sender': 'Mike', 'recipient': 'Alice', 'amount': '1 BTC'},\n",
       "  {'sender': 'Alice', 'recipient': 'Bob', 'amount': '0.5 BTC'},\n",
       "  {'sender': 'Bob', 'recipient': 'Mike', 'amount': '0.5 BTC'}],\n",
       " 'proof': 6789,\n",
       " 'previous_hash': '34fcfed7ec430262c60b51faa21996c730fb34f69939effdc867bea0d9faf4d1'}"
      ]
     },
     "execution_count": 26,
     "metadata": {},
     "output_type": "execute_result"
    }
   ],
   "source": [
    "t4 = blockchain.new_transaction(\"Mike\", \"Alice\", '1 BTC')\n",
    "t5 = blockchain.new_transaction(\"Alice\", \"Bob\", '0.5 BTC')\n",
    "t6 = blockchain.new_transaction(\"Bob\", \"Mike\", '0.5 BTC')\n",
    "blockchain.new_block(6789)"
   ]
  },
  {
   "cell_type": "code",
   "execution_count": 27,
   "metadata": {
    "ExecuteTime": {
     "end_time": "2021-11-30T20:03:19.265527Z",
     "start_time": "2021-11-30T20:03:19.254773Z"
    }
   },
   "outputs": [
    {
     "data": {
      "text/plain": [
       "[{'index': 1,\n",
       "  'timestamp': 1638302598.069534,\n",
       "  'transactions': [],\n",
       "  'proof': 100,\n",
       "  'previous_hash': 'The Times 03/Jan/2009 Chancellor on brink of second bailout for banks.'},\n",
       " {'index': 2,\n",
       "  'timestamp': 1638302598.070046,\n",
       "  'transactions': [{'sender': 'Satoshi',\n",
       "    'recipient': 'Mike',\n",
       "    'amount': '5 BTC'},\n",
       "   {'sender': 'Mike', 'recipient': 'Satoshi', 'amount': '1 BTC'},\n",
       "   {'sender': 'Satoshi', 'recipient': 'Hal Finney', 'amount': '5 BTC'}],\n",
       "  'proof': 12345,\n",
       "  'previous_hash': 'ded642a9a5d78a90a08c06054e10c9a9c86bf5c15d41567947e4b9b9063ae855'},\n",
       " {'index': 3,\n",
       "  'timestamp': 1638302598.182872,\n",
       "  'transactions': [{'sender': 'Mike', 'recipient': 'Alice', 'amount': '1 BTC'},\n",
       "   {'sender': 'Alice', 'recipient': 'Bob', 'amount': '0.5 BTC'},\n",
       "   {'sender': 'Bob', 'recipient': 'Mike', 'amount': '0.5 BTC'}],\n",
       "  'proof': 6789,\n",
       "  'previous_hash': '34fcfed7ec430262c60b51faa21996c730fb34f69939effdc867bea0d9faf4d1'}]"
      ]
     },
     "execution_count": 27,
     "metadata": {},
     "output_type": "execute_result"
    }
   ],
   "source": [
    "blockchain.chain"
   ]
  }
 ],
 "metadata": {
  "kernelspec": {
   "display_name": "Python 3",
   "language": "python",
   "name": "python3"
  },
  "language_info": {
   "codemirror_mode": {
    "name": "ipython",
    "version": 3
   },
   "file_extension": ".py",
   "mimetype": "text/x-python",
   "name": "python",
   "nbconvert_exporter": "python",
   "pygments_lexer": "ipython3",
   "version": "3.8.5"
  }
 },
 "nbformat": 4,
 "nbformat_minor": 4
}
